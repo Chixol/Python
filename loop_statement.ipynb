{
 "cells": [
  {
   "cell_type": "code",
   "execution_count": 1,
   "metadata": {},
   "outputs": [],
   "source": [
    "# 반복문\n",
    "# for 반복문: 반복할 횟수가 정해져있는 반복 작업에서 사용\n",
    "# for 변수 in range(반복횟수):\n",
    "#   반복할 실행문"
   ]
  },
  {
   "cell_type": "code",
   "execution_count": 17,
   "metadata": {},
   "outputs": [
    {
     "name": "stdout",
     "output_type": "stream",
     "text": [
      "[0, 1, 2, 3, 4]\n",
      "0\n",
      "1\n",
      "2\n",
      "3\n",
      "4\n",
      "5\n",
      "6\n",
      "7\n",
      "8\n",
      "9\n",
      "5\n",
      "8\n",
      "5\n",
      "4\n",
      "3\n",
      "2\n",
      "1\n",
      "0\n"
     ]
    }
   ],
   "source": [
    "# for (int index = 0: index < 5; index++) -- 이거랑 완전 다른거임 (조건이 맞으면 반복)\n",
    "\n",
    "# int[] array = {0, 1, 2, 3, 4};\n",
    "# for (int index: array) {} -- 위아래 둘이 비슷(배열을 가져와서 안에 요소를 반복)\n",
    "\n",
    "# range(정수): 0부터 정수 -1까지의 정수 리스트를 만들어줌\n",
    "# range(시작 정수, 종료 정수): 시작 정수부터 종료 정수까지의 정수 리스트를 생성\n",
    "# range(시작 정수, 종료 정수, 차이): 시작 정수부터 종료정수-1 까지의 정수 리스트를 생성하는데 차이 정수 만큼의 차이를 가지며 변경됨\n",
    "print(list(range(5)))\n",
    "\n",
    "for index in range(5):\n",
    "    print(index)\n",
    "\n",
    "for index in range(5, 10):\n",
    "    print(index)\n",
    "\n",
    "for index in range(5, 10, 3):\n",
    "    print(index)\n",
    "\n",
    "for index in range(5, -1, -1):\n",
    "    print(index)"
   ]
  },
  {
   "cell_type": "code",
   "execution_count": 9,
   "metadata": {},
   "outputs": [
    {
     "name": "stdout",
     "output_type": "stream",
     "text": [
      "*\n",
      "**\n",
      "***\n",
      "****\n",
      "*****\n",
      "******\n",
      "*******\n",
      "********\n",
      "*********\n",
      "**********\n"
     ]
    }
   ],
   "source": [
    "for index in range(1, 11):\n",
    "    print('*' * index)"
   ]
  },
  {
   "cell_type": "code",
   "execution_count": 19,
   "metadata": {},
   "outputs": [
    {
     "name": "stdout",
     "output_type": "stream",
     "text": [
      "**********\n",
      "*********\n",
      "********\n",
      "*******\n",
      "******\n",
      "*****\n",
      "****\n",
      "***\n",
      "**\n",
      "*\n"
     ]
    }
   ],
   "source": [
    "for index in range(10, 0, -1):\n",
    "    print('*' * index)"
   ]
  },
  {
   "cell_type": "code",
   "execution_count": 28,
   "metadata": {},
   "outputs": [
    {
     "name": "stdout",
     "output_type": "stream",
     "text": [
      "*\n",
      "**\n",
      "***\n",
      "****\n",
      "*****\n",
      "******\n",
      "*******\n",
      "********\n",
      "*********\n",
      "**********\n",
      "*********\n",
      "********\n",
      "*******\n",
      "******\n",
      "*****\n",
      "****\n",
      "***\n",
      "**\n",
      "*\n"
     ]
    }
   ],
   "source": [
    "for index in range(1, 20):\n",
    "    if index <= 10:\n",
    "        print('*' * index)\n",
    "    else:\n",
    "        print('*' * (20 - index))"
   ]
  },
  {
   "cell_type": "code",
   "execution_count": 41,
   "metadata": {},
   "outputs": [
    {
     "name": "stdout",
     "output_type": "stream",
     "text": [
      "     *     \n",
      "    ***    \n",
      "   *****   \n",
      "  *******  \n",
      " ********* \n",
      "***********\n",
      " ********* \n",
      "  *******  \n",
      "   *****   \n",
      "    ***    \n",
      "     *     \n"
     ]
    }
   ],
   "source": [
    "# 내가 만든 코드\n",
    "\n",
    "for index in range(11):\n",
    "    if index < 11 // 2:\n",
    "        spaces = \" \" * (11 // 2 - index)\n",
    "        stars = \"*\" * (2 * index + 1)\n",
    "    else:\n",
    "        spaces = \" \" * (index - 11 // 2)\n",
    "        stars = \"*\" * (2 *(11 - index) - 1)\n",
    "    print(spaces + stars + spaces)\n"
   ]
  },
  {
   "cell_type": "code",
   "execution_count": 53,
   "metadata": {},
   "outputs": [
    {
     "name": "stdout",
     "output_type": "stream",
     "text": [
      "     *\n",
      "    ***\n",
      "   *****\n",
      "  *******\n",
      " *********\n",
      "***********\n",
      " *********\n",
      "  *******\n",
      "   *****\n",
      "    ***\n",
      "     *\n"
     ]
    }
   ],
   "source": [
    "# 쌤이 만든 코드\n",
    "\n",
    "for count in range(1, 12):\n",
    "    if count <= 6:\n",
    "        print(\" \" * (6 - count) + \"*\" * (count * 2 - 1))\n",
    "    else:\n",
    "        print(\" \" * (count - 6) + \"*\" * ((12 - count) * 2 - 1))\n"
   ]
  },
  {
   "cell_type": "code",
   "execution_count": 52,
   "metadata": {},
   "outputs": [
    {
     "name": "stdout",
     "output_type": "stream",
     "text": [
      "     *     \n",
      "    ***    \n",
      "   *****   \n",
      "  *******  \n",
      " ********* \n",
      "***********\n",
      " ********* \n",
      "  *******  \n",
      "   *****   \n",
      "    ***    \n",
      "     *     \n"
     ]
    }
   ],
   "source": [
    "# 쌤이 만든 코드\n",
    "\n",
    "for count in range(1, 12):\n",
    "    star = \"*\"\n",
    "    if count <= 6:\n",
    "        star = \"*\" * (count * 2 - 1)\n",
    "    else:\n",
    "        star = \"*\" * ((12 - count) * 2 - 1)\n",
    "    print(f'{star:^11}')"
   ]
  },
  {
   "cell_type": "code",
   "execution_count": null,
   "metadata": {},
   "outputs": [],
   "source": [
    "#중첩 for 반복문\n",
    "\n",
    "# 0 1 2 3\n",
    "# 1 2 3 4\n",
    "# 2 3 4 5\n",
    "# 3 4 5 6"
   ]
  },
  {
   "cell_type": "code",
   "execution_count": 55,
   "metadata": {},
   "outputs": [
    {
     "name": "stdout",
     "output_type": "stream",
     "text": [
      "0 1 2 3  \n",
      "1 2 3 4  \n",
      "2 3 4 5  \n",
      "3 4 5 6  \n"
     ]
    }
   ],
   "source": [
    "for a in range(4):\n",
    "    for b in range(4):\n",
    "        print(a + b, end=\" \")\n",
    "    print(\" \")"
   ]
  },
  {
   "cell_type": "code",
   "execution_count": 56,
   "metadata": {},
   "outputs": [
    {
     "name": "stdout",
     "output_type": "stream",
     "text": [
      "0 1 2 3 \n",
      "1 2 3 4 \n",
      "2 3 4 5 \n",
      "3 4 5 6 \n"
     ]
    }
   ],
   "source": [
    "# for문에 넣어버리기\n",
    "for start in range(4):\n",
    "    for value in range(start, start + 4):\n",
    "        print(value, end=\" \")\n",
    "    print()"
   ]
  },
  {
   "cell_type": "code",
   "execution_count": 59,
   "metadata": {},
   "outputs": [
    {
     "name": "stdout",
     "output_type": "stream",
     "text": [
      "1, 3\n",
      "2, 2\n",
      "2, 6\n",
      "3, 1\n",
      "3, 5\n",
      "4, 4\n",
      "5, 3\n",
      "6, 2\n",
      "6, 6\n"
     ]
    }
   ],
   "source": [
    "# 만약 주사위를 두 번 던져서 나온 숫자들의 합이 4의 배수가 되는 경우만 구해야 한다면 다음과 같이 if 조건문을 추가한다.\n",
    "for a in range(1, 7):\n",
    "    for b in range (1, 7):\n",
    "        if (a + b) % 4 == 0:\n",
    "            print(f'{a}, {b}')"
   ]
  },
  {
   "cell_type": "code",
   "execution_count": 65,
   "metadata": {},
   "outputs": [
    {
     "name": "stdout",
     "output_type": "stream",
     "text": [
      "4일 후 주식의 가격: 16384원, 동전 순서: 앞면, 앞면, 앞면, 앞면\n",
      "4일 후 주식의 가격: 4096.0원, 동전 순서: 앞면, 앞면, 앞면, 뒷면\n",
      "4일 후 주식의 가격: 4096.0원, 동전 순서: 앞면, 앞면, 뒷면, 앞면\n",
      "4일 후 주식의 가격: 1024.0원, 동전 순서: 앞면, 앞면, 뒷면, 뒷면\n",
      "4일 후 주식의 가격: 4096.0원, 동전 순서: 앞면, 뒷면, 앞면, 앞면\n",
      "4일 후 주식의 가격: 1024.0원, 동전 순서: 앞면, 뒷면, 앞면, 뒷면\n",
      "4일 후 주식의 가격: 1024.0원, 동전 순서: 앞면, 뒷면, 뒷면, 앞면\n",
      "4일 후 주식의 가격: 256.0원, 동전 순서: 앞면, 뒷면, 뒷면, 뒷면\n",
      "4일 후 주식의 가격: 4096.0원, 동전 순서: 뒷면, 앞면, 앞면, 앞면\n",
      "4일 후 주식의 가격: 1024.0원, 동전 순서: 뒷면, 앞면, 앞면, 뒷면\n",
      "4일 후 주식의 가격: 1024.0원, 동전 순서: 뒷면, 앞면, 뒷면, 앞면\n",
      "4일 후 주식의 가격: 256.0원, 동전 순서: 뒷면, 앞면, 뒷면, 뒷면\n",
      "4일 후 주식의 가격: 1024.0원, 동전 순서: 뒷면, 뒷면, 앞면, 앞면\n",
      "4일 후 주식의 가격: 256.0원, 동전 순서: 뒷면, 뒷면, 앞면, 뒷면\n",
      "4일 후 주식의 가격: 256.0원, 동전 순서: 뒷면, 뒷면, 뒷면, 앞면\n",
      "4일 후 주식의 가격: 64.0원, 동전 순서: 뒷면, 뒷면, 뒷면, 뒷면\n"
     ]
    }
   ],
   "source": [
    "#어떤 주식의 가격은 매일 한 번 동전을 던져서 앞면이 나오면 전날 가격의 2배가 되고, 뒷면이 나오면 전날 가격의 절반이 된다. 1일에 주식의 가격이 1,024원이었을 때, 4일 주식의 가격이 나올 수 있는 경우를 모두 구한다. (힌트: for 반복문이 3개 중첩되어야 한다)\n",
    "\n",
    "stock = 1024\n",
    "\n",
    "for day1 in ['앞면', '뒷면']:\n",
    "    price1 = stock * 2 if day1 == '앞면' else stock / 2 \n",
    "    for day2 in ['앞면', '뒷면']:\n",
    "        price2 = price1 * 2 if day2 == '앞면' else price1 / 2  \n",
    "        for day3 in ['앞면', '뒷면']:\n",
    "            price3 = price2 * 2 if day3 == '앞면' else price2 / 2 \n",
    "            for day4 in ['앞면', '뒷면']:  \n",
    "                price4 = price3 * 2 if day4 == '앞면' else price3 / 2\n",
    "                print(f\"4일 후 주식의 가격: {price4}원, 동전 순서: {day1}, {day2}, {day3}, {day4}\")"
   ]
  },
  {
   "cell_type": "code",
   "execution_count": 68,
   "metadata": {},
   "outputs": [
    {
     "name": "stdout",
     "output_type": "stream",
     "text": [
      "64.0\n",
      "0, 0, 0, 0\n",
      "64.0\n",
      "0, 0, 0, 1\n",
      "64.0\n",
      "0, 0, 1, 0\n",
      "64.0\n",
      "0, 0, 1, 1\n",
      "64.0\n",
      "0, 1, 0, 0\n",
      "64.0\n",
      "0, 1, 0, 1\n",
      "64.0\n",
      "0, 1, 1, 0\n",
      "64.0\n",
      "0, 1, 1, 1\n",
      "16384\n",
      "1, 0, 0, 0\n",
      "16384\n",
      "1, 0, 0, 1\n",
      "16384\n",
      "1, 0, 1, 0\n",
      "16384\n",
      "1, 0, 1, 1\n",
      "16384\n",
      "1, 1, 0, 0\n",
      "16384\n",
      "1, 1, 0, 1\n",
      "16384\n",
      "1, 1, 1, 0\n",
      "16384\n",
      "1, 1, 1, 1\n"
     ]
    }
   ],
   "source": [
    "# 선생님 코드\n",
    "\n",
    "for day1 in range(2):\n",
    "    for day2 in range(2):\n",
    "        for day3 in range(2):\n",
    "            for day4 in range(2):\n",
    "                print(1024 * 2**(2*day1 - 1) * 2**(2*day1 - 1) * 2**(2*day1 - 1) * 2**(2*day1 - 1))\n",
    "                print(f'{day1}, {day2}, {day3}, {day4}')"
   ]
  },
  {
   "cell_type": "code",
   "execution_count": null,
   "metadata": {},
   "outputs": [],
   "source": []
  }
 ],
 "metadata": {
  "kernelspec": {
   "display_name": "Python 3",
   "language": "python",
   "name": "python3"
  },
  "language_info": {
   "codemirror_mode": {
    "name": "ipython",
    "version": 3
   },
   "file_extension": ".py",
   "mimetype": "text/x-python",
   "name": "python",
   "nbconvert_exporter": "python",
   "pygments_lexer": "ipython3",
   "version": "3.12.2"
  }
 },
 "nbformat": 4,
 "nbformat_minor": 2
}
