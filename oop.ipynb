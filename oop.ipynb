{
 "cells": [
  {
   "cell_type": "code",
   "execution_count": 136,
   "metadata": {},
   "outputs": [],
   "source": [
    "# 객체\n",
    "# 데이터와 데이터를 조작하는 행위의 집합"
   ]
  },
  {
   "cell_type": "code",
   "execution_count": 137,
   "metadata": {},
   "outputs": [],
   "source": [
    "class Rectangle():\n",
    "    def __init__(self, width, height):\n",
    "        self.width = width\n",
    "        self.height = height\n",
    "    \n",
    "    def getArea(self):\n",
    "        return self.hight*self.width"
   ]
  },
  {
   "cell_type": "code",
   "execution_count": 138,
   "metadata": {},
   "outputs": [
    {
     "data": {
      "text/plain": [
       "20"
      ]
     },
     "execution_count": 138,
     "metadata": {},
     "output_type": "execute_result"
    }
   ],
   "source": [
    "rectangle = Rectangle(10,20)\n",
    "rectangle.height"
   ]
  },
  {
   "cell_type": "code",
   "execution_count": 139,
   "metadata": {},
   "outputs": [],
   "source": [
    "#사각 기둥의 부피를 계산하기 위한 클래스를 만든다. 이 클래스는 다음과 같은 속성을 가진다.\n",
    "\n",
    "# - 밑면의 가로 길이 `a`, 밑면의 세로 길이 `b`, 높이 `h`\n",
    "# - 부피를 계산하는 메서드 `volume`\n",
    "# - 겉넓이를 계산하는 메서드 `surface`\n",
    "\n",
    "# 밑면의 가로 길이 * 밑면의 세로길이 * 높이\n",
    "# 2 * 밑면의 가로길이 * 밑 면의 세로길이 + 2 * 밑면의 가로길이 * 높이 + 2 * 밑면의 세로길이 * 높이 ->\n",
    "# 2 * (밑면의 가로길이 * 밑 면의 세로길이 + 밑면의 가로길이 * 높이 + 밑면의 세로길이 * 높이)"
   ]
  },
  {
   "cell_type": "code",
   "execution_count": 140,
   "metadata": {},
   "outputs": [],
   "source": [
    "# 내가 짠 코드\n",
    "\n",
    "class Hexahedron:\n",
    "    def __init__(self, a, b, h):\n",
    "        self.a = a\n",
    "        self.b = b\n",
    "        self.h = h\n",
    "\n",
    "    def volume(self):\n",
    "        return self.a * self.b * self.h\n",
    "\n",
    "    def surface(self):\n",
    "        return 2 * (self.a * self.b + self.a * self.h + self.b * self.h)\n",
    "    \n",
    "\n"
   ]
  },
  {
   "cell_type": "code",
   "execution_count": 141,
   "metadata": {},
   "outputs": [],
   "source": [
    "# 쌤이 짠 코드\n",
    "class Hexahedron:\n",
    "    def __init__(self, a, b, h):\n",
    "        self.a = a\n",
    "        self.b = b\n",
    "        self.h = h\n",
    "\n",
    "    def volume(self):\n",
    "        return self.a * self.b * self.h\n",
    "\n",
    "    def surface(self):\n",
    "        a = self.a * self.b\n",
    "        b = self.a * self.h\n",
    "        c = self.b * self.h\n",
    "        return 2 * (a + b + c)\n"
   ]
  },
  {
   "cell_type": "code",
   "execution_count": 142,
   "metadata": {},
   "outputs": [],
   "source": [
    "hexahedron = Hexahedron(4, 6, 8)"
   ]
  },
  {
   "cell_type": "code",
   "execution_count": 143,
   "metadata": {},
   "outputs": [
    {
     "data": {
      "text/plain": [
       "192"
      ]
     },
     "execution_count": 143,
     "metadata": {},
     "output_type": "execute_result"
    }
   ],
   "source": [
    "hexahedron.volume()"
   ]
  },
  {
   "cell_type": "code",
   "execution_count": 144,
   "metadata": {},
   "outputs": [
    {
     "data": {
      "text/plain": [
       "208"
      ]
     },
     "execution_count": 144,
     "metadata": {},
     "output_type": "execute_result"
    }
   ],
   "source": [
    "hexahedron.surface()"
   ]
  },
  {
   "cell_type": "code",
   "execution_count": 145,
   "metadata": {},
   "outputs": [],
   "source": [
    "class Character():\n",
    "    def __init__(self):\n",
    "        self.life = 1000\n",
    "    \n",
    "    def attacked(self):\n",
    "        self.life -= 10\n",
    "        print(f'공격받음! 생명력 = {self.life}')"
   ]
  },
  {
   "cell_type": "code",
   "execution_count": 146,
   "metadata": {},
   "outputs": [
    {
     "data": {
      "text/plain": [
       "1000"
      ]
     },
     "execution_count": 146,
     "metadata": {},
     "output_type": "execute_result"
    }
   ],
   "source": [
    "character = Character()\n",
    "\n",
    "character.life"
   ]
  },
  {
   "cell_type": "code",
   "execution_count": 147,
   "metadata": {},
   "outputs": [
    {
     "name": "stdout",
     "output_type": "stream",
     "text": [
      "공격받음! 생명력 = 990\n"
     ]
    },
    {
     "data": {
      "text/plain": [
       "990"
      ]
     },
     "execution_count": 147,
     "metadata": {},
     "output_type": "execute_result"
    }
   ],
   "source": [
    "character.attacked()\n",
    "character.life"
   ]
  },
  {
   "cell_type": "code",
   "execution_count": 148,
   "metadata": {},
   "outputs": [],
   "source": [
    "# 클래스 상속\n",
    "# 이미 만들어 져있는 클래스를 재사용하기 위한 방법론으로\n",
    "# 코드 재사용으로 코드의 중복을 제거할 수 있고 유지보수를 향상 시킬 수 있음\n",
    "# class 클래스명(상속할 클래스명):\n",
    "#   def __init__(self, arg1,...):\n",
    "#       super(자식클래스명, self).__init__()\n",
    "#       인스턴스 생성시 실행할 코드..."
   ]
  },
  {
   "cell_type": "code",
   "execution_count": 149,
   "metadata": {},
   "outputs": [],
   "source": [
    "class Warrior(Character):\n",
    "\n",
    "    def __init__(self):\n",
    "        super(Warrior, self).__init__()\n",
    "        self.strength = 15\n",
    "        self.intelligence = 5"
   ]
  },
  {
   "cell_type": "code",
   "execution_count": 150,
   "metadata": {},
   "outputs": [],
   "source": [
    "class Wizard(Character):\n",
    "\n",
    "    def __init__(self):\n",
    "        super(Wizard, self).__init__()\n",
    "        self.strength = 5\n",
    "        self.intelligence = 15"
   ]
  },
  {
   "cell_type": "code",
   "execution_count": 151,
   "metadata": {},
   "outputs": [],
   "source": [
    "warrior = Warrior()\n",
    "wizard  = Wizard()"
   ]
  },
  {
   "cell_type": "code",
   "execution_count": 152,
   "metadata": {},
   "outputs": [
    {
     "data": {
      "text/plain": [
       "1000"
      ]
     },
     "execution_count": 152,
     "metadata": {},
     "output_type": "execute_result"
    }
   ],
   "source": [
    "warrior.life"
   ]
  },
  {
   "cell_type": "code",
   "execution_count": 153,
   "metadata": {},
   "outputs": [
    {
     "data": {
      "text/plain": [
       "1000"
      ]
     },
     "execution_count": 153,
     "metadata": {},
     "output_type": "execute_result"
    }
   ],
   "source": [
    "wizard.life"
   ]
  },
  {
   "cell_type": "code",
   "execution_count": 154,
   "metadata": {},
   "outputs": [
    {
     "data": {
      "text/plain": [
       "15"
      ]
     },
     "execution_count": 154,
     "metadata": {},
     "output_type": "execute_result"
    }
   ],
   "source": [
    "warrior.strength"
   ]
  },
  {
   "cell_type": "code",
   "execution_count": 155,
   "metadata": {},
   "outputs": [
    {
     "data": {
      "text/plain": [
       "5"
      ]
     },
     "execution_count": 155,
     "metadata": {},
     "output_type": "execute_result"
    }
   ],
   "source": [
    "wizard.strength"
   ]
  },
  {
   "cell_type": "code",
   "execution_count": 156,
   "metadata": {},
   "outputs": [],
   "source": [
    "# 오버라이딩\n",
    "# 클래스 상속 관계에서 조상클래스에 있는 메서드를 자손 클래스에서 재정의 하여 사용하는 방법론"
   ]
  },
  {
   "cell_type": "code",
   "execution_count": 157,
   "metadata": {},
   "outputs": [],
   "source": [
    "class Warrior(Character):\n",
    "\n",
    "    def __init__(self):\n",
    "        super(Warrior, self).__init__()\n",
    "        self.strength = 15\n",
    "        self.intelligence = 5\n",
    "\n",
    "    def attacked(self):\n",
    "        self.life -= 5\n",
    "        print(f'전사가 공격당함!! life = {self.life}')"
   ]
  },
  {
   "cell_type": "code",
   "execution_count": 158,
   "metadata": {},
   "outputs": [],
   "source": [
    "class Wizard(Character):\n",
    "\n",
    "    def __init__(self):\n",
    "        super(Wizard, self).__init__()\n",
    "        self.strength = 5\n",
    "        self.intelligence = 15\n",
    "\n",
    "    def attacked(self):\n",
    "        self.life -= 15\n",
    "        print(f'마법사가 공격당함!! life = {self.life}')\n",
    "\n",
    "    # def attacked(self, target):\n",
    "    #     self.life -= 20\n",
    "    #     print(f'마법사가 {target}에게 공격당함!! life = {self.life}') #안됨"
   ]
  },
  {
   "cell_type": "code",
   "execution_count": 159,
   "metadata": {},
   "outputs": [],
   "source": [
    "character = Character()\n",
    "warrior = Warrior()\n",
    "wizard = Wizard()"
   ]
  },
  {
   "cell_type": "code",
   "execution_count": 160,
   "metadata": {},
   "outputs": [
    {
     "name": "stdout",
     "output_type": "stream",
     "text": [
      "공격받음! 생명력 = 990\n",
      "전사가 공격당함!! life = 995\n",
      "마법사가 공격당함!! life = 985\n"
     ]
    }
   ],
   "source": [
    "character.attacked()\n",
    "warrior.attacked()\n",
    "wizard.attacked()"
   ]
  },
  {
   "cell_type": "code",
   "execution_count": 161,
   "metadata": {},
   "outputs": [],
   "source": [
    "# 특수 메서드\n",
    "# 파이썬 클래스에서 제공하는 __메서드명__ 형태의 메서드\n",
    "# __repr__(self): 인스턴스 자체 출력시 표현할 방법을 작성\n",
    "# __str__(self): 인스턴스를 문자열로 형변환 할 때 표현할 방법을 작성\n",
    "# __getitem__(self, ket): 인스턴스를 딕셔너리와 같이 'key'로 속성 값을 가져올 수 있도록 하는 방법을 작성\n"
   ]
  },
  {
   "cell_type": "code",
   "execution_count": 162,
   "metadata": {},
   "outputs": [],
   "source": [
    "class Complex():\n",
    "    def __init__(self, r, i):\n",
    "        self.r = r\n",
    "        self.i = i\n",
    "\n",
    "    def __repr__(self):\n",
    "        return f'Complex - [r:{self.r}, i:{self.i}]'\n",
    "    \n",
    "    def __str__(self):\n",
    "        return f'r : {self.r}, i : {self.i}'\n",
    "    \n",
    "    def __getitem__(self, key):\n",
    "        if key == 'i':\n",
    "            return self.i\n",
    "        if key == 'r':\n",
    "            return self.r"
   ]
  },
  {
   "cell_type": "code",
   "execution_count": 163,
   "metadata": {},
   "outputs": [
    {
     "data": {
      "text/plain": [
       "Complex - [r:1, i:2]"
      ]
     },
     "execution_count": 163,
     "metadata": {},
     "output_type": "execute_result"
    }
   ],
   "source": [
    "complex = Complex(1, 2)\n",
    "complex"
   ]
  },
  {
   "cell_type": "code",
   "execution_count": 164,
   "metadata": {},
   "outputs": [
    {
     "data": {
      "text/plain": [
       "'r : 1, i : 2'"
      ]
     },
     "execution_count": 164,
     "metadata": {},
     "output_type": "execute_result"
    }
   ],
   "source": [
    "str(complex)"
   ]
  },
  {
   "cell_type": "code",
   "execution_count": 165,
   "metadata": {},
   "outputs": [
    {
     "data": {
      "text/plain": [
       "2"
      ]
     },
     "execution_count": 165,
     "metadata": {},
     "output_type": "execute_result"
    }
   ],
   "source": [
    "complex['i']"
   ]
  },
  {
   "cell_type": "code",
   "execution_count": 166,
   "metadata": {},
   "outputs": [],
   "source": [
    "# 내가 짠 코드\n",
    "\n",
    "class Car:\n",
    "    def __init__(self):\n",
    "        self.max_speed = 160\n",
    "        self.speed = 0\n",
    "\n",
    "    def speed_up(self):\n",
    "        self.speed += 20\n",
    "        if  self.speed > self.max_speed:\n",
    "            self.speed = self.max_speed\n",
    "        print (f'현재 속도 : {self.speed}')\n",
    "\n",
    "    def speed_down(self):\n",
    "        self.speed -= 20\n",
    "        if self.speed < 0:\n",
    "            self.speed = 0\n",
    "        print (f'현재 속도 : {self.speed}')\n",
    "\n"
   ]
  },
  {
   "cell_type": "code",
   "execution_count": 167,
   "metadata": {},
   "outputs": [],
   "source": [
    "car = Car()\n"
   ]
  },
  {
   "cell_type": "code",
   "execution_count": 168,
   "metadata": {},
   "outputs": [
    {
     "name": "stdout",
     "output_type": "stream",
     "text": [
      "현재 속도 : 0\n"
     ]
    }
   ],
   "source": [
    "car.speed_down()"
   ]
  },
  {
   "cell_type": "code",
   "execution_count": 169,
   "metadata": {},
   "outputs": [],
   "source": [
    "# 쌤이 짠 코드\n",
    "class Car:\n",
    "\n",
    "    def __init__(self):\n",
    "        self.speed = 0\n",
    "        self.max_speed = 160\n",
    "        \n",
    "    def speed_up(self):\n",
    "        if self.speed >= self.max_speed:\n",
    "            print('현재 속도는 최고 속도를 초과할 수 없습니다.')\n",
    "            return\n",
    "        self.speed += 20\n",
    "        print(f'현재 속도: {self.speed}')\n",
    "    \n",
    "    def speed_down(self):\n",
    "        if self.speed <= 0:\n",
    "            print('현재 속도는 0미만일 수 없습니다.')\n",
    "            return\n",
    "        self.speed -= 20\n",
    "        print(f'현재 속도: {self.speed}')"
   ]
  },
  {
   "cell_type": "code",
   "execution_count": 170,
   "metadata": {},
   "outputs": [],
   "source": [
    "car = Car()"
   ]
  },
  {
   "cell_type": "code",
   "execution_count": 171,
   "metadata": {},
   "outputs": [
    {
     "data": {
      "text/plain": [
       "0"
      ]
     },
     "execution_count": 171,
     "metadata": {},
     "output_type": "execute_result"
    }
   ],
   "source": [
    "car.speed"
   ]
  },
  {
   "cell_type": "code",
   "execution_count": 172,
   "metadata": {},
   "outputs": [
    {
     "data": {
      "text/plain": [
       "160"
      ]
     },
     "execution_count": 172,
     "metadata": {},
     "output_type": "execute_result"
    }
   ],
   "source": [
    "car.max_speed"
   ]
  },
  {
   "cell_type": "code",
   "execution_count": 173,
   "metadata": {},
   "outputs": [
    {
     "name": "stdout",
     "output_type": "stream",
     "text": [
      "현재 속도는 0미만일 수 없습니다.\n"
     ]
    }
   ],
   "source": [
    "car.speed_down()"
   ]
  },
  {
   "cell_type": "code",
   "execution_count": 174,
   "metadata": {},
   "outputs": [
    {
     "name": "stdout",
     "output_type": "stream",
     "text": [
      "현재 속도: 20\n"
     ]
    }
   ],
   "source": [
    "car.speed_up()"
   ]
  },
  {
   "cell_type": "code",
   "execution_count": 175,
   "metadata": {},
   "outputs": [],
   "source": [
    "class SportCar(Car):\n",
    "    def __init__(self):\n",
    "        super().__init__()\n",
    "        self.max_speed = 200\n",
    "\n",
    "    def speed_up(self):\n",
    "        if self.speed >= self.max_speed:\n",
    "            print('현재 속도는 최고 속도를 초과할 수 없습니다.')\n",
    "            return\n",
    "        self.speed = self.max_speed if self.speed + 45 > self.max_speed else self.speed +45\n",
    "        print(f'현재 속도: {self.speed}')\n",
    "\n",
    "    def speed_down(self):\n",
    "        if self.speed <= 0:\n",
    "            print('현재 속도는 0미만일 수 없습니다.')\n",
    "            return\n",
    "        self.speed = 0 if self.speed - 45 < 0 else self.speed - 45\n",
    "        print(f'현재 속도: {self.speed}')\n",
    "        "
   ]
  },
  {
   "cell_type": "code",
   "execution_count": 176,
   "metadata": {},
   "outputs": [],
   "source": [
    "sportCar = SportCar()"
   ]
  },
  {
   "cell_type": "code",
   "execution_count": 177,
   "metadata": {},
   "outputs": [
    {
     "data": {
      "text/plain": [
       "200"
      ]
     },
     "execution_count": 177,
     "metadata": {},
     "output_type": "execute_result"
    }
   ],
   "source": [
    "sportCar.max_speed"
   ]
  },
  {
   "cell_type": "code",
   "execution_count": 178,
   "metadata": {},
   "outputs": [
    {
     "name": "stdout",
     "output_type": "stream",
     "text": [
      "현재 속도: 45\n"
     ]
    }
   ],
   "source": [
    "sportCar.speed_up()"
   ]
  },
  {
   "cell_type": "code",
   "execution_count": 179,
   "metadata": {},
   "outputs": [
    {
     "name": "stdout",
     "output_type": "stream",
     "text": [
      "현재 속도: 0\n"
     ]
    }
   ],
   "source": [
    "sportCar.speed_down()"
   ]
  },
  {
   "cell_type": "code",
   "execution_count": 180,
   "metadata": {},
   "outputs": [],
   "source": [
    "# 다른 버전\n",
    "\n",
    "class Car():\n",
    "\n",
    "    def __init__(self):\n",
    "        self.speed = 0\n",
    "        self.max_speed = 160\n",
    "        self.gap_speed = 20\n",
    "\n",
    "    def speed_up(self):\n",
    "        if self.speed >= self.max_speed:\n",
    "            print('현재 속도는 최고속도를 초과할 수 없습니다.')\n",
    "            return\n",
    "        self.speed = self.max_speed if self.speed + self.gap_speed > self.max_speed else self.speed + self.gap_speed\n",
    "        print(f'현재 속도: {self.speed}')\n",
    "\n",
    "    def speed_down(self):\n",
    "        if self.speed <= 0:\n",
    "            print('현재 속도는 0 미만일 수 없습니다.')\n",
    "            return\n",
    "        self.speed = 0 if self.speed - self.gap_speed < 0 else self.speed - self.gap_speed\n",
    "        print(f'현재 속도: {self.speed}')"
   ]
  },
  {
   "cell_type": "code",
   "execution_count": 181,
   "metadata": {},
   "outputs": [],
   "source": [
    "class SportCar(Car):\n",
    "\n",
    "    def __init__(self):\n",
    "        super().__init__()\n",
    "        self.max_speed = 200\n",
    "        self.gap_speed = 45"
   ]
  },
  {
   "cell_type": "code",
   "execution_count": 182,
   "metadata": {},
   "outputs": [],
   "source": [
    "sportCar = SportCar()"
   ]
  },
  {
   "cell_type": "code",
   "execution_count": 183,
   "metadata": {},
   "outputs": [
    {
     "data": {
      "text/plain": [
       "200"
      ]
     },
     "execution_count": 183,
     "metadata": {},
     "output_type": "execute_result"
    }
   ],
   "source": [
    "sportCar.max_speed"
   ]
  },
  {
   "cell_type": "code",
   "execution_count": 184,
   "metadata": {},
   "outputs": [
    {
     "name": "stdout",
     "output_type": "stream",
     "text": [
      "현재 속도: 45\n"
     ]
    }
   ],
   "source": [
    "sportCar.speed_up()"
   ]
  },
  {
   "cell_type": "code",
   "execution_count": 185,
   "metadata": {},
   "outputs": [
    {
     "name": "stdout",
     "output_type": "stream",
     "text": [
      "현재 속도: 0\n"
     ]
    }
   ],
   "source": [
    "sportCar.speed_down()"
   ]
  }
 ],
 "metadata": {
  "kernelspec": {
   "display_name": "Python 3",
   "language": "python",
   "name": "python3"
  },
  "language_info": {
   "codemirror_mode": {
    "name": "ipython",
    "version": 3
   },
   "file_extension": ".py",
   "mimetype": "text/x-python",
   "name": "python",
   "nbconvert_exporter": "python",
   "pygments_lexer": "ipython3",
   "version": "3.12.2"
  }
 },
 "nbformat": 4,
 "nbformat_minor": 2
}
