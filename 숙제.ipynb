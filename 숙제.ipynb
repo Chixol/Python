{
 "cells": [
  {
   "cell_type": "code",
   "execution_count": 1,
   "metadata": {},
   "outputs": [
    {
     "name": "stdout",
     "output_type": "stream",
     "text": [
      "윤년이 아닙니다\n"
     ]
    }
   ],
   "source": [
    "y = 4202\n",
    "\n",
    "print('윤년입니다' if y % 4 == 0 and (y % 100 != 0 or y % 400 == 0) else '윤년이 아닙니다')"
   ]
  },
  {
   "cell_type": "code",
   "execution_count": 2,
   "metadata": {},
   "outputs": [
    {
     "name": "stdout",
     "output_type": "stream",
     "text": [
      "A가 복역하는 연 수: 0\n",
      "B가 복역하는 연 수: 10\n"
     ]
    }
   ],
   "source": [
    "input_A = input('A가 자백? (true/false): ')\n",
    "input_B = input('B가 자백? (true/false): ')\n",
    "\n",
    "XA = input_A == 'true'\n",
    "XB = input_B == 'true'\n",
    "\n",
    "if XA and XB:\n",
    "    YA = YB = 5\n",
    "elif XA or XB:\n",
    "    YA = 0 if XA else 10\n",
    "    YB = 0 if XB else 10\n",
    "else:\n",
    "    YA = YB = 1\n",
    "\n",
    "print('A가 복역하는 연 수:', YA)\n",
    "print('B가 복역하는 연 수:', YB)"
   ]
  },
  {
   "cell_type": "code",
   "execution_count": null,
   "metadata": {},
   "outputs": [],
   "source": []
  }
 ],
 "metadata": {
  "kernelspec": {
   "display_name": "Python 3",
   "language": "python",
   "name": "python3"
  },
  "language_info": {
   "codemirror_mode": {
    "name": "ipython",
    "version": 3
   },
   "file_extension": ".py",
   "mimetype": "text/x-python",
   "name": "python",
   "nbconvert_exporter": "python",
   "pygments_lexer": "ipython3",
   "version": "3.12.2"
  }
 },
 "nbformat": 4,
 "nbformat_minor": 2
}
