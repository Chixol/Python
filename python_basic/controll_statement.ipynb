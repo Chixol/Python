{
 "cells": [
  {
   "cell_type": "code",
   "execution_count": 1,
   "metadata": {},
   "outputs": [],
   "source": [
    "# 조건문\n",
    "# if 조건문\n",
    "# if 조건 :\n",
    "#   실행문"
   ]
  },
  {
   "cell_type": "code",
   "execution_count": 13,
   "metadata": {},
   "outputs": [
    {
     "name": "stdout",
     "output_type": "stream",
     "text": [
      "짝수\n",
      "짝수\n"
     ]
    }
   ],
   "source": [
    "number = 123456\n",
    "# : 이후에 새로운 코드 블럭이 생기면 라인 첫 공백을 모두 같게 해야함\n",
    "if number % 2 == 0:\n",
    "    print('짝수')\n",
    "    print('짝수')"
   ]
  },
  {
   "cell_type": "code",
   "execution_count": 14,
   "metadata": {},
   "outputs": [],
   "source": [
    "# else\n",
    "# else:\n",
    "#   실행문"
   ]
  },
  {
   "cell_type": "code",
   "execution_count": 15,
   "metadata": {},
   "outputs": [
    {
     "name": "stdout",
     "output_type": "stream",
     "text": [
      "짝수\n"
     ]
    }
   ],
   "source": [
    "if number % 2 == 0:\n",
    "    print('짝수')\n",
    "else:\n",
    "    print('홀수')"
   ]
  },
  {
   "cell_type": "code",
   "execution_count": 27,
   "metadata": {},
   "outputs": [],
   "source": [
    "# 윤년\n",
    "# 4202년이 윤년인지 아닌지 판별하는 조건문을 작성하시오.\n",
    "\n",
    "# 변수 y의 값이 윤년이면 “윤년입니다”를 출력하고 아니라면 “윤년이 아닙니다”라고 출력하는 프로그램을 만든다. 윤년은 2월 29일이 있는 해로 다음과 같이 정해진다.\n",
    "\n",
    "# 서력 기원 연수가 4로 나누어 떨어지는 해는 윤년으로 한다(2004년, 2008년, 2012년, 2016년, 2020년, 2024년, …).\n",
    "# 이 중에서 100으로 나누어 떨어지는 해는 평년으로 한다(1900년, 2100년, 2200년, 2300년, 2500년, …).\n",
    "# 이 중에서 400으로 나누어 떨어지는 해는 윤년으로 둔다(1600년, 2000년, 2400년, …)."
   ]
  },
  {
   "cell_type": "code",
   "execution_count": 30,
   "metadata": {},
   "outputs": [
    {
     "name": "stdout",
     "output_type": "stream",
     "text": [
      "윤년이 아닙니다.\n"
     ]
    }
   ],
   "source": [
    "year = 4202\n",
    "\n",
    "if (year % 4 == 0 and year % 100 !=0) or (year % 400 == 0): # |:or, &:and\n",
    "    print('윤년입니다.')\n",
    "else :\n",
    "    print('윤년이 아닙니다.')"
   ]
  },
  {
   "cell_type": "code",
   "execution_count": 35,
   "metadata": {},
   "outputs": [],
   "source": [
    "# elif (else if) : 상위의 조건이 false이면서 elif의 조건이 true이면 실행\n",
    "# elif 조건 :\n",
    "#   실행문"
   ]
  },
  {
   "cell_type": "code",
   "execution_count": 39,
   "metadata": {},
   "outputs": [
    {
     "name": "stdout",
     "output_type": "stream",
     "text": [
      "C\n"
     ]
    }
   ],
   "source": [
    "score = 80\n",
    "if score > 90:\n",
    "    print('A')\n",
    "elif score > 80:\n",
    "    print('B')\n",
    "elif score > 70:\n",
    "    print('C')\n",
    "elif score > 60:\n",
    "    print('D')\n",
    "else:\n",
    "    print('F')"
   ]
  },
  {
   "cell_type": "code",
   "execution_count": null,
   "metadata": {},
   "outputs": [],
   "source": [
    "# 어떤 농장에서는 수박이 10kg이 넘으면 1등급, 그렇지 않고 7kg이 넘으면 2등급,\n",
    "# 그렇지 않고 4kg이 넘으면 3등급, 나머지는 4등급을 준다고 한다. \n",
    "# 이 수박의 등급을 정하는 파이썬 코드를 작성한다."
   ]
  },
  {
   "cell_type": "code",
   "execution_count": 41,
   "metadata": {},
   "outputs": [
    {
     "name": "stdout",
     "output_type": "stream",
     "text": [
      "3등급\n"
     ]
    }
   ],
   "source": [
    "warter_malon = 6\n",
    "\n",
    "if warter_malon > 10:\n",
    "    print ('1등급')\n",
    "elif warter_malon > 7:\n",
    "    print ('2등급')\n",
    "elif warter_malon > 4:\n",
    "    print ('3등급')\n",
    "else:\n",
    "    print ('4등급')"
   ]
  },
  {
   "cell_type": "code",
   "execution_count": 42,
   "metadata": {},
   "outputs": [],
   "source": [
    "#  중첩 if\n",
    "# if문 안에 if (들여쓰기 조심)"
   ]
  },
  {
   "cell_type": "code",
   "execution_count": null,
   "metadata": {},
   "outputs": [],
   "source": [
    "# 예를 들어 중학교에서 팔굽혀펴기 시험을 보는데 남자는 10번 이상을 해야 합격(Pass)이고 아니면 불합격(Fail)이다. 여자는 5번 이상을 해야 합격이라면 다음과 같이 프로그램을 만들 수 있다."
   ]
  },
  {
   "cell_type": "code",
   "execution_count": 46,
   "metadata": {},
   "outputs": [
    {
     "name": "stdout",
     "output_type": "stream",
     "text": [
      "불합격\n"
     ]
    }
   ],
   "source": [
    "gender = '남자'\n",
    "count = 7\n",
    "if gender == '남자':\n",
    "    # 남자일 때\n",
    "    if count >= 10:\n",
    "        print('합격')\n",
    "    else:\n",
    "        print('불합격')\n",
    "else:\n",
    "    # 여자일때\n",
    "    if count >= 5:\n",
    "        print('합격')\n",
    "    else:\n",
    "        print('불합격')"
   ]
  },
  {
   "cell_type": "code",
   "execution_count": 47,
   "metadata": {},
   "outputs": [
    {
     "name": "stdout",
     "output_type": "stream",
     "text": [
      "불합격\n"
     ]
    }
   ],
   "source": [
    "# if 한 줄로\n",
    "\n",
    "gender = '남자'\n",
    "count = 7\n",
    "\n",
    "if (gender == '남자' and count >= 10) or (gender == '여자' and count >= 5):\n",
    "    print('합격')\n",
    "else:\n",
    "    print('불합격')"
   ]
  },
  {
   "cell_type": "code",
   "execution_count": 1,
   "metadata": {},
   "outputs": [
    {
     "name": "stdout",
     "output_type": "stream",
     "text": [
      "A의 복역 년 수는 {YA}, B의 복역 년 수는 {YB}\n"
     ]
    }
   ],
   "source": [
    "XA = True\n",
    "XB = False\n",
    "\n",
    "YA = 0\n",
    "YB = 0\n",
    "\n",
    "if XA:\n",
    "    if XB:\n",
    "        YA = 5\n",
    "        YB = 5\n",
    "    else:\n",
    "        YA = 0\n",
    "        YB = 10\n",
    "else:\n",
    "    if XB:\n",
    "        YA = 10\n",
    "        YB = 0\n",
    "    else:\n",
    "        YA = 1\n",
    "        YB = 1\n",
    "\n",
    "print('A의 복역 년 수는 {YA}, B의 복역 년 수는 {YB}')"
   ]
  },
  {
   "cell_type": "code",
   "execution_count": 3,
   "metadata": {},
   "outputs": [
    {
     "name": "stdout",
     "output_type": "stream",
     "text": [
      "A의 복역 년 수는 0, B의 복역 년 수는 10\n"
     ]
    }
   ],
   "source": [
    "if XA and XB:\n",
    "    YA = 5\n",
    "    YB = 5\n",
    "elif XA and not XB:\n",
    "    YA = 0\n",
    "    YB = 10\n",
    "elif not XA and XB:\n",
    "    YA = 10\n",
    "    YB = 0\n",
    "else:\n",
    "    YA = 1\n",
    "    YB = 1\n",
    "\n",
    "\n",
    "print('A의 복역 년 수는 {YA}, B의 복역 년 수는 {YB}')"
   ]
  },
  {
   "cell_type": "code",
   "execution_count": 6,
   "metadata": {},
   "outputs": [
    {
     "name": "stdout",
     "output_type": "stream",
     "text": [
      "윤년이 아닙니다.\n"
     ]
    }
   ],
   "source": [
    "year = int(input('연도를 입력하세요: '))\n",
    "\n",
    "if year % 400 == 0:\n",
    "    print('윤년입니다.')\n",
    "else:\n",
    "    if year % 4 == 0:\n",
    "        if year % 100 != 0:\n",
    "            print('윤년입니다.')\n",
    "        else:\n",
    "            print('윤년이 아닙니다.')\n",
    "    else:\n",
    "        print('윤년이 아닙니다.')"
   ]
  },
  {
   "cell_type": "code",
   "execution_count": null,
   "metadata": {},
   "outputs": [],
   "source": []
  }
 ],
 "metadata": {
  "kernelspec": {
   "display_name": "Python 3",
   "language": "python",
   "name": "python3"
  },
  "language_info": {
   "codemirror_mode": {
    "name": "ipython",
    "version": 3
   },
   "file_extension": ".py",
   "mimetype": "text/x-python",
   "name": "python",
   "nbconvert_exporter": "python",
   "pygments_lexer": "ipython3",
   "version": "3.12.2"
  }
 },
 "nbformat": 4,
 "nbformat_minor": 2
}
